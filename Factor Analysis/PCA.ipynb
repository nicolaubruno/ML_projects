{
 "cells": [
  {
   "cell_type": "markdown",
   "id": "cce19786-0e6d-45b8-b5fe-e8ce5bc77d94",
   "metadata": {},
   "source": [
    "# Principal Component Analysis"
   ]
  },
  {
   "cell_type": "markdown",
   "id": "25e1c03a-d590-4937-b920-ecf0dd119c85",
   "metadata": {},
   "source": [
    "## Libraries"
   ]
  },
  {
   "cell_type": "code",
   "execution_count": 83,
   "id": "695eb31f-5b67-453a-8566-c1fcb695bdf4",
   "metadata": {},
   "outputs": [],
   "source": [
    "# Libraries to handle data\n",
    "import numpy as np\n",
    "import pandas as pd\n",
    "from scripts import data_wrangling as dw"
   ]
  },
  {
   "cell_type": "code",
   "execution_count": 84,
   "id": "60b3740b-f1bf-45ed-b986-cf28d5f0d692",
   "metadata": {},
   "outputs": [
    {
     "name": "stdout",
     "output_type": "stream",
     "text": [
      "The autoreload extension is already loaded. To reload it, use:\n",
      "  %reload_ext autoreload\n"
     ]
    }
   ],
   "source": [
    "# Magic commands\n",
    "%load_ext autoreload\n",
    "%autoreload 2"
   ]
  },
  {
   "cell_type": "markdown",
   "id": "181f5d13-dc03-423a-bfdb-d0a498df6cf3",
   "metadata": {},
   "source": [
    "## Datasets"
   ]
  },
  {
   "cell_type": "markdown",
   "id": "573eeaff-d55a-4f3e-9651-18ed2fe2f5f0",
   "metadata": {},
   "source": [
    "Since PCA is restricted to numerical variables, we must filter categorical variables from the datasets to properly perform this method. The class `Dataset` from the Python script `scripts/data_wrangling.py` attends to this task."
   ]
  },
  {
   "cell_type": "code",
   "execution_count": 90,
   "id": "57474cc3-767b-4b96-8b26-b92116358087",
   "metadata": {},
   "outputs": [],
   "source": [
    "# Dataset object from the script data_wrangling\n",
    "dataset = dw.Dataset()\n",
    "\n",
    "mat_df = dataset.get_df(subject = 'mat', variables = 'numerical')\n",
    "por_df = dataset.get_df(subject = 'por', variables = 'numerical')\n",
    "\n",
    "# Let us rescale the grades so that \n",
    "# the maximum will be 10 instead of 20\n",
    "#---\n",
    "\n",
    "mat_df['G1'] *= 0.5\n",
    "mat_df['G2'] *= 0.5\n",
    "mat_df['G3'] *= 0.5\n",
    "\n",
    "por_df['G1'] *= 0.5\n",
    "por_df['G2'] *= 0.5\n",
    "por_df['G3'] *= 0.5"
   ]
  },
  {
   "cell_type": "markdown",
   "id": "6523c6ad-ff9c-49bb-a819-0cae17bc255a",
   "metadata": {},
   "source": [
    "## Mathematics"
   ]
  },
  {
   "cell_type": "code",
   "execution_count": 98,
   "id": "bc7ae411-958b-42b1-9e65-76b9d9abae61",
   "metadata": {},
   "outputs": [
    {
     "data": {
      "text/html": [
       "<div>\n",
       "<style scoped>\n",
       "    .dataframe tbody tr th:only-of-type {\n",
       "        vertical-align: middle;\n",
       "    }\n",
       "\n",
       "    .dataframe tbody tr th {\n",
       "        vertical-align: top;\n",
       "    }\n",
       "\n",
       "    .dataframe thead th {\n",
       "        text-align: right;\n",
       "    }\n",
       "</style>\n",
       "<table border=\"1\" class=\"dataframe\">\n",
       "  <thead>\n",
       "    <tr style=\"text-align: right;\">\n",
       "      <th></th>\n",
       "      <th>count</th>\n",
       "      <th>mean</th>\n",
       "      <th>std</th>\n",
       "      <th>min</th>\n",
       "      <th>25%</th>\n",
       "      <th>50%</th>\n",
       "      <th>75%</th>\n",
       "      <th>max</th>\n",
       "    </tr>\n",
       "  </thead>\n",
       "  <tbody>\n",
       "    <tr>\n",
       "      <th>age</th>\n",
       "      <td>395.0</td>\n",
       "      <td>16.696203</td>\n",
       "      <td>1.276043</td>\n",
       "      <td>15.0</td>\n",
       "      <td>16.0</td>\n",
       "      <td>17.0</td>\n",
       "      <td>18.0</td>\n",
       "      <td>22.0</td>\n",
       "    </tr>\n",
       "    <tr>\n",
       "      <th>failures</th>\n",
       "      <td>395.0</td>\n",
       "      <td>0.334177</td>\n",
       "      <td>0.743651</td>\n",
       "      <td>0.0</td>\n",
       "      <td>0.0</td>\n",
       "      <td>0.0</td>\n",
       "      <td>0.0</td>\n",
       "      <td>3.0</td>\n",
       "    </tr>\n",
       "    <tr>\n",
       "      <th>absences</th>\n",
       "      <td>395.0</td>\n",
       "      <td>5.708861</td>\n",
       "      <td>8.003096</td>\n",
       "      <td>0.0</td>\n",
       "      <td>0.0</td>\n",
       "      <td>4.0</td>\n",
       "      <td>8.0</td>\n",
       "      <td>75.0</td>\n",
       "    </tr>\n",
       "    <tr>\n",
       "      <th>G1</th>\n",
       "      <td>395.0</td>\n",
       "      <td>5.454430</td>\n",
       "      <td>1.659597</td>\n",
       "      <td>1.5</td>\n",
       "      <td>4.0</td>\n",
       "      <td>5.5</td>\n",
       "      <td>6.5</td>\n",
       "      <td>9.5</td>\n",
       "    </tr>\n",
       "    <tr>\n",
       "      <th>G2</th>\n",
       "      <td>395.0</td>\n",
       "      <td>5.356962</td>\n",
       "      <td>1.880752</td>\n",
       "      <td>0.0</td>\n",
       "      <td>4.5</td>\n",
       "      <td>5.5</td>\n",
       "      <td>6.5</td>\n",
       "      <td>9.5</td>\n",
       "    </tr>\n",
       "    <tr>\n",
       "      <th>G3</th>\n",
       "      <td>395.0</td>\n",
       "      <td>5.207595</td>\n",
       "      <td>2.290721</td>\n",
       "      <td>0.0</td>\n",
       "      <td>4.0</td>\n",
       "      <td>5.5</td>\n",
       "      <td>7.0</td>\n",
       "      <td>10.0</td>\n",
       "    </tr>\n",
       "  </tbody>\n",
       "</table>\n",
       "</div>"
      ],
      "text/plain": [
       "          count       mean       std   min   25%   50%   75%   max\n",
       "age       395.0  16.696203  1.276043  15.0  16.0  17.0  18.0  22.0\n",
       "failures  395.0   0.334177  0.743651   0.0   0.0   0.0   0.0   3.0\n",
       "absences  395.0   5.708861  8.003096   0.0   0.0   4.0   8.0  75.0\n",
       "G1        395.0   5.454430  1.659597   1.5   4.0   5.5   6.5   9.5\n",
       "G2        395.0   5.356962  1.880752   0.0   4.5   5.5   6.5   9.5\n",
       "G3        395.0   5.207595  2.290721   0.0   4.0   5.5   7.0  10.0"
      ]
     },
     "execution_count": 98,
     "metadata": {},
     "output_type": "execute_result"
    }
   ],
   "source": [
    "mat_df.describe().transpose()"
   ]
  },
  {
   "cell_type": "markdown",
   "id": "7cb644a0-903b-4093-a1f9-c264b0130999",
   "metadata": {},
   "source": [
    "From the dataframe above:\n",
    "\n",
    "- the majority of students are $17 \\pm 1$ years old since the first quartile of the age variable is 16 and the third quartile is 18;\n",
    "\n",
    "- Most students do not have past class failures since the third quartile of the failures variable is 0;\n",
    "\n",
    "- Most students are present in most classes;\n",
    "\n",
    "- The first, second, and final grades are similar centered in 5.5."
   ]
  }
 ],
 "metadata": {
  "kernelspec": {
   "display_name": "Python 3 (ipykernel)",
   "language": "python",
   "name": "python3"
  },
  "language_info": {
   "codemirror_mode": {
    "name": "ipython",
    "version": 3
   },
   "file_extension": ".py",
   "mimetype": "text/x-python",
   "name": "python",
   "nbconvert_exporter": "python",
   "pygments_lexer": "ipython3",
   "version": "3.10.6"
  }
 },
 "nbformat": 4,
 "nbformat_minor": 5
}
