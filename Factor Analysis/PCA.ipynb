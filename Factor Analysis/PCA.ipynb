{
 "cells": [
  {
   "cell_type": "markdown",
   "id": "cce19786-0e6d-45b8-b5fe-e8ce5bc77d94",
   "metadata": {},
   "source": [
    "# Principal Component Analysis\n",
    "\n",
    "The **principal component analysis** (**PCA**) is a non-parametric method of **factor extraction** applied to *continuous numerical variables*. The PCA is often used to reduce the dimension of a data set (**dimensionality reduction**) since few extracted factors, also known as **principal components**, retain most of the variability in the data.\n",
    "\n",
    "In this notebook, we shall apply PCA to extract factors from the [datasets](http://archive.ics.uci.edu/ml/datasets/Student+Performance) of *UCI Machine Learning Repository* that contains grades, demographics, and social information of students at secondary education level in mathematics and Portuguese language subjects (see **README** file). We also shall verify each factor in order to build a new data set with fewer dimensions."
   ]
  },
  {
   "cell_type": "markdown",
   "id": "25e1c03a-d590-4937-b920-ecf0dd119c85",
   "metadata": {},
   "source": [
    "## Libraries"
   ]
  },
  {
   "cell_type": "code",
   "execution_count": 2,
   "id": "695eb31f-5b67-453a-8566-c1fcb695bdf4",
   "metadata": {},
   "outputs": [],
   "source": [
    "# Numerical library\n",
    "import numpy as np\n",
    "\n",
    "# Libraries to handle data\n",
    "import pandas as pd\n",
    "from scripts import data_wrangling as dw\n",
    "\n",
    "# Graphs\n",
    "from matplotlib import pyplot as plt\n",
    "import seaborn as sns"
   ]
  },
  {
   "cell_type": "code",
   "execution_count": 3,
   "id": "60b3740b-f1bf-45ed-b986-cf28d5f0d692",
   "metadata": {},
   "outputs": [],
   "source": [
    "# Magic commands\n",
    "%matplotlib inline\n",
    "%load_ext autoreload\n",
    "%autoreload 2"
   ]
  },
  {
   "cell_type": "markdown",
   "id": "181f5d13-dc03-423a-bfdb-d0a498df6cf3",
   "metadata": {},
   "source": [
    "## Dataset"
   ]
  },
  {
   "cell_type": "markdown",
   "id": "573eeaff-d55a-4f3e-9651-18ed2fe2f5f0",
   "metadata": {},
   "source": [
    "Since PCA is restricted to *continuous numerical variables*, we must filter non-continuous variables from the datasets to properly perform this method. We shall build a single dataframe with the grades of the two subjects, mathematics and Portuguese language. Overall, there will be 6 variables in the dataframe: `mat_G1`, `mat_G2`, `mat_G3`, `por_G1`, `por_G2`, and `por_G3`. To perform this task, we made the class `Dataset` from the Python script `scripts/data_wrangling.py`."
   ]
  },
  {
   "cell_type": "code",
   "execution_count": 44,
   "id": "2134c5e3-2ef8-496a-a280-489ffe8114c7",
   "metadata": {},
   "outputs": [
    {
     "data": {
      "text/html": [
       "<div>\n",
       "<style scoped>\n",
       "    .dataframe tbody tr th:only-of-type {\n",
       "        vertical-align: middle;\n",
       "    }\n",
       "\n",
       "    .dataframe tbody tr th {\n",
       "        vertical-align: top;\n",
       "    }\n",
       "\n",
       "    .dataframe thead th {\n",
       "        text-align: right;\n",
       "    }\n",
       "</style>\n",
       "<table border=\"1\" class=\"dataframe\">\n",
       "  <thead>\n",
       "    <tr style=\"text-align: right;\">\n",
       "      <th></th>\n",
       "      <th>G1_mat</th>\n",
       "      <th>G2_mat</th>\n",
       "      <th>G3_mat</th>\n",
       "      <th>G1_por</th>\n",
       "      <th>G2_por</th>\n",
       "      <th>G3_por</th>\n",
       "    </tr>\n",
       "  </thead>\n",
       "  <tbody>\n",
       "    <tr>\n",
       "      <th>0</th>\n",
       "      <td>2.5</td>\n",
       "      <td>3.0</td>\n",
       "      <td>3.0</td>\n",
       "      <td>0.0</td>\n",
       "      <td>5.5</td>\n",
       "      <td>5.5</td>\n",
       "    </tr>\n",
       "    <tr>\n",
       "      <th>1</th>\n",
       "      <td>2.5</td>\n",
       "      <td>2.5</td>\n",
       "      <td>3.0</td>\n",
       "      <td>4.5</td>\n",
       "      <td>5.5</td>\n",
       "      <td>5.5</td>\n",
       "    </tr>\n",
       "    <tr>\n",
       "      <th>2</th>\n",
       "      <td>3.5</td>\n",
       "      <td>4.0</td>\n",
       "      <td>5.0</td>\n",
       "      <td>6.0</td>\n",
       "      <td>6.5</td>\n",
       "      <td>6.0</td>\n",
       "    </tr>\n",
       "    <tr>\n",
       "      <th>3</th>\n",
       "      <td>7.5</td>\n",
       "      <td>7.0</td>\n",
       "      <td>7.5</td>\n",
       "      <td>7.0</td>\n",
       "      <td>7.0</td>\n",
       "      <td>7.0</td>\n",
       "    </tr>\n",
       "    <tr>\n",
       "      <th>4</th>\n",
       "      <td>3.0</td>\n",
       "      <td>5.0</td>\n",
       "      <td>5.0</td>\n",
       "      <td>5.5</td>\n",
       "      <td>6.5</td>\n",
       "      <td>6.5</td>\n",
       "    </tr>\n",
       "    <tr>\n",
       "      <th>...</th>\n",
       "      <td>...</td>\n",
       "      <td>...</td>\n",
       "      <td>...</td>\n",
       "      <td>...</td>\n",
       "      <td>...</td>\n",
       "      <td>...</td>\n",
       "    </tr>\n",
       "    <tr>\n",
       "      <th>377</th>\n",
       "      <td>3.5</td>\n",
       "      <td>4.5</td>\n",
       "      <td>4.0</td>\n",
       "      <td>7.5</td>\n",
       "      <td>7.5</td>\n",
       "      <td>8.0</td>\n",
       "    </tr>\n",
       "    <tr>\n",
       "      <th>378</th>\n",
       "      <td>3.0</td>\n",
       "      <td>2.5</td>\n",
       "      <td>0.0</td>\n",
       "      <td>3.5</td>\n",
       "      <td>4.0</td>\n",
       "      <td>3.5</td>\n",
       "    </tr>\n",
       "    <tr>\n",
       "      <th>379</th>\n",
       "      <td>3.0</td>\n",
       "      <td>2.5</td>\n",
       "      <td>0.0</td>\n",
       "      <td>5.5</td>\n",
       "      <td>6.0</td>\n",
       "      <td>4.5</td>\n",
       "    </tr>\n",
       "    <tr>\n",
       "      <th>380</th>\n",
       "      <td>7.0</td>\n",
       "      <td>8.0</td>\n",
       "      <td>8.0</td>\n",
       "      <td>5.0</td>\n",
       "      <td>5.0</td>\n",
       "      <td>5.0</td>\n",
       "    </tr>\n",
       "    <tr>\n",
       "      <th>381</th>\n",
       "      <td>5.5</td>\n",
       "      <td>6.0</td>\n",
       "      <td>5.0</td>\n",
       "      <td>5.0</td>\n",
       "      <td>5.5</td>\n",
       "      <td>5.5</td>\n",
       "    </tr>\n",
       "  </tbody>\n",
       "</table>\n",
       "<p>382 rows × 6 columns</p>\n",
       "</div>"
      ],
      "text/plain": [
       "     G1_mat  G2_mat  G3_mat  G1_por  G2_por  G3_por\n",
       "0       2.5     3.0     3.0     0.0     5.5     5.5\n",
       "1       2.5     2.5     3.0     4.5     5.5     5.5\n",
       "2       3.5     4.0     5.0     6.0     6.5     6.0\n",
       "3       7.5     7.0     7.5     7.0     7.0     7.0\n",
       "4       3.0     5.0     5.0     5.5     6.5     6.5\n",
       "..      ...     ...     ...     ...     ...     ...\n",
       "377     3.5     4.5     4.0     7.5     7.5     8.0\n",
       "378     3.0     2.5     0.0     3.5     4.0     3.5\n",
       "379     3.0     2.5     0.0     5.5     6.0     4.5\n",
       "380     7.0     8.0     8.0     5.0     5.0     5.0\n",
       "381     5.5     6.0     5.0     5.0     5.5     5.5\n",
       "\n",
       "[382 rows x 6 columns]"
      ]
     },
     "execution_count": 44,
     "metadata": {},
     "output_type": "execute_result"
    }
   ],
   "source": [
    "# Dataset object from the script data_wrangling\n",
    "dataset = dw.Dataset()\n",
    "\n",
    "# Get dataset from students with grades in both subjects\n",
    "df = dataset.get_df(subject = 'both', dtype = 'float')\n",
    "    \n",
    "# Let us rescale the grades so that the maximum will be 10 instead of 20\n",
    "df *= 0.5\n",
    "\n",
    "df"
   ]
  },
  {
   "cell_type": "markdown",
   "id": "bf6fe09d-9b11-4e46-9a9d-0321b773c832",
   "metadata": {},
   "source": [
    "### Descriptive statistics"
   ]
  },
  {
   "cell_type": "code",
   "execution_count": 46,
   "id": "bc7ae411-958b-42b1-9e65-76b9d9abae61",
   "metadata": {},
   "outputs": [
    {
     "data": {
      "text/html": [
       "<div>\n",
       "<style scoped>\n",
       "    .dataframe tbody tr th:only-of-type {\n",
       "        vertical-align: middle;\n",
       "    }\n",
       "\n",
       "    .dataframe tbody tr th {\n",
       "        vertical-align: top;\n",
       "    }\n",
       "\n",
       "    .dataframe thead th {\n",
       "        text-align: right;\n",
       "    }\n",
       "</style>\n",
       "<table border=\"1\" class=\"dataframe\">\n",
       "  <thead>\n",
       "    <tr style=\"text-align: right;\">\n",
       "      <th></th>\n",
       "      <th>count</th>\n",
       "      <th>mean</th>\n",
       "      <th>std</th>\n",
       "      <th>min</th>\n",
       "      <th>25%</th>\n",
       "      <th>50%</th>\n",
       "      <th>75%</th>\n",
       "      <th>max</th>\n",
       "    </tr>\n",
       "  </thead>\n",
       "  <tbody>\n",
       "    <tr>\n",
       "      <th>G1_mat</th>\n",
       "      <td>382.0</td>\n",
       "      <td>5.430628</td>\n",
       "      <td>1.674584</td>\n",
       "      <td>1.5</td>\n",
       "      <td>4.000</td>\n",
       "      <td>5.25</td>\n",
       "      <td>6.5</td>\n",
       "      <td>9.5</td>\n",
       "    </tr>\n",
       "    <tr>\n",
       "      <th>G2_mat</th>\n",
       "      <td>382.0</td>\n",
       "      <td>5.356021</td>\n",
       "      <td>1.916280</td>\n",
       "      <td>0.0</td>\n",
       "      <td>4.125</td>\n",
       "      <td>5.50</td>\n",
       "      <td>6.5</td>\n",
       "      <td>9.5</td>\n",
       "    </tr>\n",
       "    <tr>\n",
       "      <th>G3_mat</th>\n",
       "      <td>382.0</td>\n",
       "      <td>5.193717</td>\n",
       "      <td>2.343620</td>\n",
       "      <td>0.0</td>\n",
       "      <td>4.000</td>\n",
       "      <td>5.50</td>\n",
       "      <td>7.0</td>\n",
       "      <td>10.0</td>\n",
       "    </tr>\n",
       "    <tr>\n",
       "      <th>G1_por</th>\n",
       "      <td>382.0</td>\n",
       "      <td>6.056283</td>\n",
       "      <td>1.278266</td>\n",
       "      <td>0.0</td>\n",
       "      <td>5.000</td>\n",
       "      <td>6.00</td>\n",
       "      <td>7.0</td>\n",
       "      <td>9.5</td>\n",
       "    </tr>\n",
       "    <tr>\n",
       "      <th>G2_por</th>\n",
       "      <td>382.0</td>\n",
       "      <td>6.119110</td>\n",
       "      <td>1.234171</td>\n",
       "      <td>2.5</td>\n",
       "      <td>5.500</td>\n",
       "      <td>6.00</td>\n",
       "      <td>7.0</td>\n",
       "      <td>9.5</td>\n",
       "    </tr>\n",
       "    <tr>\n",
       "      <th>G3_por</th>\n",
       "      <td>382.0</td>\n",
       "      <td>6.257854</td>\n",
       "      <td>1.472719</td>\n",
       "      <td>0.0</td>\n",
       "      <td>5.500</td>\n",
       "      <td>6.50</td>\n",
       "      <td>7.0</td>\n",
       "      <td>9.5</td>\n",
       "    </tr>\n",
       "  </tbody>\n",
       "</table>\n",
       "</div>"
      ],
      "text/plain": [
       "        count      mean       std  min    25%   50%  75%   max\n",
       "G1_mat  382.0  5.430628  1.674584  1.5  4.000  5.25  6.5   9.5\n",
       "G2_mat  382.0  5.356021  1.916280  0.0  4.125  5.50  6.5   9.5\n",
       "G3_mat  382.0  5.193717  2.343620  0.0  4.000  5.50  7.0  10.0\n",
       "G1_por  382.0  6.056283  1.278266  0.0  5.000  6.00  7.0   9.5\n",
       "G2_por  382.0  6.119110  1.234171  2.5  5.500  6.00  7.0   9.5\n",
       "G3_por  382.0  6.257854  1.472719  0.0  5.500  6.50  7.0   9.5"
      ]
     },
     "execution_count": 46,
     "metadata": {},
     "output_type": "execute_result"
    }
   ],
   "source": [
    "df.describe().transpose()"
   ]
  },
  {
   "cell_type": "markdown",
   "id": "7cb644a0-903b-4093-a1f9-c264b0130999",
   "metadata": {},
   "source": [
    "From the dataframe above:\n",
    "\n",
    "- the majority of students are $17 \\pm 1$ years old since the 1st quartile of the age variable is 16 and the 3rd quartile is 18;\n",
    "\n",
    "- Most students do not have past class failures since the 3rd quartile of the failures variable is 0;\n",
    "\n",
    "- Most students are present in most classes;\n",
    "\n",
    "- The first, second, and final grades are similar centered at the same value, 5.5."
   ]
  },
  {
   "cell_type": "code",
   "execution_count": 41,
   "id": "fefb0b08-f0af-4b8d-8d7d-0b63e722ab96",
   "metadata": {},
   "outputs": [
    {
     "data": {
      "text/plain": [
       "Text(0.5, 0.98, 'Histograms and boxplots of each numerical variable')"
      ]
     },
     "execution_count": 41,
     "metadata": {},
     "output_type": "execute_result"
    },
    {
     "data": {
      "image/png": "[encoded data removed]",
      "text/plain": [
       "<Figure size 1300x1000 with 12 Axes>"
      ]
     },
     "metadata": {},
     "output_type": "display_data"
    }
   ],
   "source": [
    "#----- Figure and axis -----#\n",
    "\n",
    "# Figure\n",
    "fig = plt.figure(figsize = (13, 10), dpi = 100)\n",
    "\n",
    "# Grid\n",
    "gs = fig.add_gridspec(nrows = 8, ncols = 3)\n",
    "\n",
    "# Histograms\n",
    "hist_axs = []\n",
    "for i in range(2):\n",
    "    for j in range(3):\n",
    "        hist_axs.append(fig.add_subplot(gs[4*i+1:4*i+4, j]))\n",
    "        \n",
    "        # Remove spines\n",
    "        hist_axs[-1].spines[['top', 'right']].set_visible(False)\n",
    "        \n",
    "# Boxplots\n",
    "boxplot_axs = []\n",
    "for i in range(2):\n",
    "    for j in range(3):\n",
    "        boxplot_axs.append(fig.add_subplot(gs[4*i, j]))\n",
    "        \n",
    "        # Remove spines\n",
    "        boxplot_axs[-1].spines[:].set_visible(False)\n",
    "        \n",
    "        # Remove yaxis\n",
    "        boxplot_axs[-1].yaxis.set_visible(False)\n",
    "        boxplot_axs[-1].xaxis.set_tick_params(bottom = False, labelbottom = False)\n",
    "        \n",
    "#----- Plots -----#\n",
    "\n",
    "# Discrete variables\n",
    "discrete_vars = ['age', 'failures', 'absences']\n",
    "titles = [\"Student's age\", \"Number of past class failures\", \"Number of school absences\"]\n",
    "\n",
    "for i in range(3):\n",
    "    data = mat_df[discrete_vars[i]].value_counts()\n",
    "    x = data.index.values\n",
    "    y = data.to_numpy()\n",
    "    hist_axs[i].bar(x, y)\n",
    "    \n",
    "    # Labels\n",
    "    hist_axs[i].set_title(titles[i], fontsize = 14, pad = 20)\n",
    "\n",
    "        \n",
    "#----- Appearance -----#\n",
    "\n",
    "plt.style.use('seaborn-ticks')\n",
    "plt.rcParams.update({\n",
    "        'font.size': 14\n",
    "    })\n",
    "plt.tight_layout()\n",
    "\n",
    "#----- Labels, legends and annotations -----#\n",
    "\n",
    "# Title\n",
    "plt.suptitle('Histograms and boxplots of each numerical variable', fontsize = 16)"
   ]
  },
  {
   "cell_type": "markdown",
   "id": "6523c6ad-ff9c-49bb-a819-0cae17bc255a",
   "metadata": {},
   "source": [
    "## Correlation matrix"
   ]
  },
  {
   "cell_type": "markdown",
   "id": "7bdababc-f691-4ca7-bc6a-97238843688b",
   "metadata": {},
   "source": [
    "## Data Screening"
   ]
  },
  {
   "cell_type": "markdown",
   "id": "38f26fb5-4202-4c3a-8abe-5db77e66f3dc",
   "metadata": {},
   "source": [
    "### Low Correlations"
   ]
  },
  {
   "cell_type": "markdown",
   "id": "a3d12d5a-bcc3-45ea-9a34-561a89a48e82",
   "metadata": {},
   "source": [
    "#### Kaiser-Meyer-Olkin test"
   ]
  },
  {
   "cell_type": "markdown",
   "id": "37cccf50-655c-45da-bba0-b607e242f07c",
   "metadata": {},
   "source": [
    "#### Bartlett's sphericity test"
   ]
  },
  {
   "cell_type": "markdown",
   "id": "32dcea01-7d22-439c-adc7-e0960e1b1092",
   "metadata": {},
   "source": [
    "### Multicollinearity\n",
    "\n",
    "Since the process of finding **factors** is basically a **multiple linear regression problem**, we must make sure of the lack of **multicollinearity**, which is a strong or perfect (**singularity**) linear relation between two or more variables."
   ]
  }
 ],
 "metadata": {
  "kernelspec": {
   "display_name": "Python 3 (ipykernel)",
   "language": "python",
   "name": "python3"
  },
  "language_info": {
   "codemirror_mode": {
    "name": "ipython",
    "version": 3
   },
   "file_extension": ".py",
   "mimetype": "text/x-python",
   "name": "python",
   "nbconvert_exporter": "python",
   "pygments_lexer": "ipython3",
   "version": "3.10.6"
  }
 },
 "nbformat": 4,
 "nbformat_minor": 5
}
