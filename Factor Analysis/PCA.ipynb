{
 "cells": [
  {
   "cell_type": "markdown",
   "id": "cce19786-0e6d-45b8-b5fe-e8ce5bc77d94",
   "metadata": {},
   "source": [
    "# Principal Component Analysis"
   ]
  },
  {
   "cell_type": "markdown",
   "id": "25e1c03a-d590-4937-b920-ecf0dd119c85",
   "metadata": {},
   "source": [
    "## Libraries"
   ]
  },
  {
   "cell_type": "code",
   "execution_count": 47,
   "id": "695eb31f-5b67-453a-8566-c1fcb695bdf4",
   "metadata": {},
   "outputs": [],
   "source": [
    "# Libraries to handle data\n",
    "import numpy as np\n",
    "import pandas as pd\n",
    "from scripts import data_wrangling as dw"
   ]
  },
  {
   "cell_type": "code",
   "execution_count": 48,
   "id": "60b3740b-f1bf-45ed-b986-cf28d5f0d692",
   "metadata": {},
   "outputs": [
    {
     "name": "stdout",
     "output_type": "stream",
     "text": [
      "The autoreload extension is already loaded. To reload it, use:\n",
      "  %reload_ext autoreload\n"
     ]
    }
   ],
   "source": [
    "# Magic commands\n",
    "%load_ext autoreload\n",
    "%autoreload 2"
   ]
  },
  {
   "cell_type": "markdown",
   "id": "181f5d13-dc03-423a-bfdb-d0a498df6cf3",
   "metadata": {},
   "source": [
    "## Dataset"
   ]
  },
  {
   "cell_type": "markdown",
   "id": "573eeaff-d55a-4f3e-9651-18ed2fe2f5f0",
   "metadata": {},
   "source": [
    "Since PCA is only applied to numerical variables, we must filter categorical variables from the dataset to properly perform this method. The class `Dataset` in the Python script `scripts/data_wrangling.py` attends to this task."
   ]
  },
  {
   "cell_type": "code",
   "execution_count": 60,
   "id": "57474cc3-767b-4b96-8b26-b92116358087",
   "metadata": {},
   "outputs": [],
   "source": [
    "# Dataset object from the script data_wrangling\n",
    "dataset = dw.Dataset()\n",
    "\n",
    "mat = dataset.get_df(subject = 'mat', variables = 'numerical')"
   ]
  }
 ],
 "metadata": {
  "kernelspec": {
   "display_name": "Python 3 (ipykernel)",
   "language": "python",
   "name": "python3"
  },
  "language_info": {
   "codemirror_mode": {
    "name": "ipython",
    "version": 3
   },
   "file_extension": ".py",
   "mimetype": "text/x-python",
   "name": "python",
   "nbconvert_exporter": "python",
   "pygments_lexer": "ipython3",
   "version": "3.10.6"
  }
 },
 "nbformat": 4,
 "nbformat_minor": 5
}
