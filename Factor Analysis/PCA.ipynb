{
 "cells": [
  {
   "cell_type": "markdown",
   "id": "cce19786-0e6d-45b8-b5fe-e8ce5bc77d94",
   "metadata": {},
   "source": [
    "# Principal Component Analysis\n",
    "\n",
    "In this Jupyter notebook, we shall apply the **principal component analysis** (**PCA**) to extract *factors* from the [datasets](http://archive.ics.uci.edu/ml/datasets/Student+Performance) introduced in the README file and, thus, reduce the dimension of the datasets."
   ]
  },
  {
   "cell_type": "markdown",
   "id": "25e1c03a-d590-4937-b920-ecf0dd119c85",
   "metadata": {},
   "source": [
    "## Libraries"
   ]
  },
  {
   "cell_type": "code",
   "execution_count": 1,
   "id": "695eb31f-5b67-453a-8566-c1fcb695bdf4",
   "metadata": {},
   "outputs": [],
   "source": [
    "# Numerical library\n",
    "import numpy as np\n",
    "\n",
    "# Libraries to handle data\n",
    "import pandas as pd\n",
    "from scripts import data_wrangling as dw\n",
    "\n",
    "# Data Visualization\n",
    "from matplotlib import pyplot as plt\n",
    "import seaborn as sns\n",
    "from scripts import dataviz"
   ]
  },
  {
   "cell_type": "code",
   "execution_count": 3,
   "id": "60b3740b-f1bf-45ed-b986-cf28d5f0d692",
   "metadata": {},
   "outputs": [],
   "source": [
    "# Magic commands\n",
    "%load_ext autoreload\n",
    "%autoreload 2"
   ]
  },
  {
   "cell_type": "markdown",
   "id": "181f5d13-dc03-423a-bfdb-d0a498df6cf3",
   "metadata": {},
   "source": [
    "## Dataset"
   ]
  },
  {
   "cell_type": "markdown",
   "id": "573eeaff-d55a-4f3e-9651-18ed2fe2f5f0",
   "metadata": {},
   "source": [
    "Since PCA is restricted to *continuous numerical variables*, we must filter non-continuous variables from the datasets. To properly perform this task, we created the class `Dataset` in the Python script `scripts/data_wrangling.py`. We shall build a single dataframe with the student's grades in mathematics and Portuguese. Thus, we shall consider only students with valid grades in both subjects. Overall, there will be 6 variables in the dataframe: `mat_G1`, `mat_G2`, `mat_G3`, `por_G1`, `por_G2`, and `por_G3`."
   ]
  },
  {
   "cell_type": "code",
   "execution_count": 4,
   "id": "2134c5e3-2ef8-496a-a280-489ffe8114c7",
   "metadata": {},
   "outputs": [
    {
     "data": {
      "text/html": [
       "<div>\n",
       "<style scoped>\n",
       "    .dataframe tbody tr th:only-of-type {\n",
       "        vertical-align: middle;\n",
       "    }\n",
       "\n",
       "    .dataframe tbody tr th {\n",
       "        vertical-align: top;\n",
       "    }\n",
       "\n",
       "    .dataframe thead th {\n",
       "        text-align: right;\n",
       "    }\n",
       "</style>\n",
       "<table border=\"1\" class=\"dataframe\">\n",
       "  <thead>\n",
       "    <tr style=\"text-align: right;\">\n",
       "      <th></th>\n",
       "      <th>G1_mat</th>\n",
       "      <th>G2_mat</th>\n",
       "      <th>G3_mat</th>\n",
       "      <th>G1_por</th>\n",
       "      <th>G2_por</th>\n",
       "      <th>G3_por</th>\n",
       "    </tr>\n",
       "  </thead>\n",
       "  <tbody>\n",
       "    <tr>\n",
       "      <th>0</th>\n",
       "      <td>2.5</td>\n",
       "      <td>3.0</td>\n",
       "      <td>3.0</td>\n",
       "      <td>0.0</td>\n",
       "      <td>5.5</td>\n",
       "      <td>5.5</td>\n",
       "    </tr>\n",
       "    <tr>\n",
       "      <th>1</th>\n",
       "      <td>2.5</td>\n",
       "      <td>2.5</td>\n",
       "      <td>3.0</td>\n",
       "      <td>4.5</td>\n",
       "      <td>5.5</td>\n",
       "      <td>5.5</td>\n",
       "    </tr>\n",
       "    <tr>\n",
       "      <th>2</th>\n",
       "      <td>3.5</td>\n",
       "      <td>4.0</td>\n",
       "      <td>5.0</td>\n",
       "      <td>6.0</td>\n",
       "      <td>6.5</td>\n",
       "      <td>6.0</td>\n",
       "    </tr>\n",
       "    <tr>\n",
       "      <th>3</th>\n",
       "      <td>7.5</td>\n",
       "      <td>7.0</td>\n",
       "      <td>7.5</td>\n",
       "      <td>7.0</td>\n",
       "      <td>7.0</td>\n",
       "      <td>7.0</td>\n",
       "    </tr>\n",
       "    <tr>\n",
       "      <th>4</th>\n",
       "      <td>3.0</td>\n",
       "      <td>5.0</td>\n",
       "      <td>5.0</td>\n",
       "      <td>5.5</td>\n",
       "      <td>6.5</td>\n",
       "      <td>6.5</td>\n",
       "    </tr>\n",
       "    <tr>\n",
       "      <th>...</th>\n",
       "      <td>...</td>\n",
       "      <td>...</td>\n",
       "      <td>...</td>\n",
       "      <td>...</td>\n",
       "      <td>...</td>\n",
       "      <td>...</td>\n",
       "    </tr>\n",
       "    <tr>\n",
       "      <th>377</th>\n",
       "      <td>3.5</td>\n",
       "      <td>4.5</td>\n",
       "      <td>4.0</td>\n",
       "      <td>7.5</td>\n",
       "      <td>7.5</td>\n",
       "      <td>8.0</td>\n",
       "    </tr>\n",
       "    <tr>\n",
       "      <th>378</th>\n",
       "      <td>3.0</td>\n",
       "      <td>2.5</td>\n",
       "      <td>0.0</td>\n",
       "      <td>3.5</td>\n",
       "      <td>4.0</td>\n",
       "      <td>3.5</td>\n",
       "    </tr>\n",
       "    <tr>\n",
       "      <th>379</th>\n",
       "      <td>3.0</td>\n",
       "      <td>2.5</td>\n",
       "      <td>0.0</td>\n",
       "      <td>5.5</td>\n",
       "      <td>6.0</td>\n",
       "      <td>4.5</td>\n",
       "    </tr>\n",
       "    <tr>\n",
       "      <th>380</th>\n",
       "      <td>7.0</td>\n",
       "      <td>8.0</td>\n",
       "      <td>8.0</td>\n",
       "      <td>5.0</td>\n",
       "      <td>5.0</td>\n",
       "      <td>5.0</td>\n",
       "    </tr>\n",
       "    <tr>\n",
       "      <th>381</th>\n",
       "      <td>5.5</td>\n",
       "      <td>6.0</td>\n",
       "      <td>5.0</td>\n",
       "      <td>5.0</td>\n",
       "      <td>5.5</td>\n",
       "      <td>5.5</td>\n",
       "    </tr>\n",
       "  </tbody>\n",
       "</table>\n",
       "<p>382 rows × 6 columns</p>\n",
       "</div>"
      ],
      "text/plain": [
       "     G1_mat  G2_mat  G3_mat  G1_por  G2_por  G3_por\n",
       "0       2.5     3.0     3.0     0.0     5.5     5.5\n",
       "1       2.5     2.5     3.0     4.5     5.5     5.5\n",
       "2       3.5     4.0     5.0     6.0     6.5     6.0\n",
       "3       7.5     7.0     7.5     7.0     7.0     7.0\n",
       "4       3.0     5.0     5.0     5.5     6.5     6.5\n",
       "..      ...     ...     ...     ...     ...     ...\n",
       "377     3.5     4.5     4.0     7.5     7.5     8.0\n",
       "378     3.0     2.5     0.0     3.5     4.0     3.5\n",
       "379     3.0     2.5     0.0     5.5     6.0     4.5\n",
       "380     7.0     8.0     8.0     5.0     5.0     5.0\n",
       "381     5.5     6.0     5.0     5.0     5.5     5.5\n",
       "\n",
       "[382 rows x 6 columns]"
      ]
     },
     "execution_count": 4,
     "metadata": {},
     "output_type": "execute_result"
    }
   ],
   "source": [
    "# Dataset object from the script data_wrangling\n",
    "dataset = dw.Dataset()\n",
    "\n",
    "# Get dataset from students with grades in both subjects\n",
    "df = dataset.get_df(subject = 'both', dtype = 'float')\n",
    "    \n",
    "# Let us rescale the grades so that the maximum will be 10 instead of 20\n",
    "df *= 0.5\n",
    "\n",
    "df"
   ]
  },
  {
   "cell_type": "markdown",
   "id": "bf6fe09d-9b11-4e46-9a9d-0321b773c832",
   "metadata": {},
   "source": [
    "### Descriptive statistics"
   ]
  },
  {
   "cell_type": "code",
   "execution_count": 5,
   "id": "bc7ae411-958b-42b1-9e65-76b9d9abae61",
   "metadata": {},
   "outputs": [
    {
     "data": {
      "text/html": [
       "<div>\n",
       "<style scoped>\n",
       "    .dataframe tbody tr th:only-of-type {\n",
       "        vertical-align: middle;\n",
       "    }\n",
       "\n",
       "    .dataframe tbody tr th {\n",
       "        vertical-align: top;\n",
       "    }\n",
       "\n",
       "    .dataframe thead th {\n",
       "        text-align: right;\n",
       "    }\n",
       "</style>\n",
       "<table border=\"1\" class=\"dataframe\">\n",
       "  <thead>\n",
       "    <tr style=\"text-align: right;\">\n",
       "      <th></th>\n",
       "      <th>count</th>\n",
       "      <th>mean</th>\n",
       "      <th>std</th>\n",
       "      <th>min</th>\n",
       "      <th>25%</th>\n",
       "      <th>50%</th>\n",
       "      <th>75%</th>\n",
       "      <th>max</th>\n",
       "    </tr>\n",
       "  </thead>\n",
       "  <tbody>\n",
       "    <tr>\n",
       "      <th>G1_mat</th>\n",
       "      <td>382.0</td>\n",
       "      <td>5.430628</td>\n",
       "      <td>1.674584</td>\n",
       "      <td>1.5</td>\n",
       "      <td>4.000</td>\n",
       "      <td>5.25</td>\n",
       "      <td>6.5</td>\n",
       "      <td>9.5</td>\n",
       "    </tr>\n",
       "    <tr>\n",
       "      <th>G2_mat</th>\n",
       "      <td>382.0</td>\n",
       "      <td>5.356021</td>\n",
       "      <td>1.916280</td>\n",
       "      <td>0.0</td>\n",
       "      <td>4.125</td>\n",
       "      <td>5.50</td>\n",
       "      <td>6.5</td>\n",
       "      <td>9.5</td>\n",
       "    </tr>\n",
       "    <tr>\n",
       "      <th>G3_mat</th>\n",
       "      <td>382.0</td>\n",
       "      <td>5.193717</td>\n",
       "      <td>2.343620</td>\n",
       "      <td>0.0</td>\n",
       "      <td>4.000</td>\n",
       "      <td>5.50</td>\n",
       "      <td>7.0</td>\n",
       "      <td>10.0</td>\n",
       "    </tr>\n",
       "    <tr>\n",
       "      <th>G1_por</th>\n",
       "      <td>382.0</td>\n",
       "      <td>6.056283</td>\n",
       "      <td>1.278266</td>\n",
       "      <td>0.0</td>\n",
       "      <td>5.000</td>\n",
       "      <td>6.00</td>\n",
       "      <td>7.0</td>\n",
       "      <td>9.5</td>\n",
       "    </tr>\n",
       "    <tr>\n",
       "      <th>G2_por</th>\n",
       "      <td>382.0</td>\n",
       "      <td>6.119110</td>\n",
       "      <td>1.234171</td>\n",
       "      <td>2.5</td>\n",
       "      <td>5.500</td>\n",
       "      <td>6.00</td>\n",
       "      <td>7.0</td>\n",
       "      <td>9.5</td>\n",
       "    </tr>\n",
       "    <tr>\n",
       "      <th>G3_por</th>\n",
       "      <td>382.0</td>\n",
       "      <td>6.257854</td>\n",
       "      <td>1.472719</td>\n",
       "      <td>0.0</td>\n",
       "      <td>5.500</td>\n",
       "      <td>6.50</td>\n",
       "      <td>7.0</td>\n",
       "      <td>9.5</td>\n",
       "    </tr>\n",
       "  </tbody>\n",
       "</table>\n",
       "</div>"
      ],
      "text/plain": [
       "        count      mean       std  min    25%   50%  75%   max\n",
       "G1_mat  382.0  5.430628  1.674584  1.5  4.000  5.25  6.5   9.5\n",
       "G2_mat  382.0  5.356021  1.916280  0.0  4.125  5.50  6.5   9.5\n",
       "G3_mat  382.0  5.193717  2.343620  0.0  4.000  5.50  7.0  10.0\n",
       "G1_por  382.0  6.056283  1.278266  0.0  5.000  6.00  7.0   9.5\n",
       "G2_por  382.0  6.119110  1.234171  2.5  5.500  6.00  7.0   9.5\n",
       "G3_por  382.0  6.257854  1.472719  0.0  5.500  6.50  7.0   9.5"
      ]
     },
     "execution_count": 5,
     "metadata": {},
     "output_type": "execute_result"
    }
   ],
   "source": [
    "df.describe().transpose()"
   ]
  },
  {
   "cell_type": "code",
   "execution_count": 9,
   "id": "371f8527-2abe-4554-982d-e98b647bf94a",
   "metadata": {},
   "outputs": [
    {
     "data": {
      "image/png": "[encoded data removed]",
      "text/plain": [
       "<Figure size 1500x800 with 12 Axes>"
      ]
     },
     "metadata": {},
     "output_type": "display_data"
    }
   ],
   "source": [
    "desc_stats = dataviz.DescStats(\n",
    "        [\n",
    "            df[[label + '_mat' for label in ['G1', 'G2', 'G3']]], \n",
    "            df[[label + '_por' for label in ['G1', 'G2', 'G3']]]\n",
    "        ],\n",
    "        share_all_x = True,\n",
    "        share_row_y = True,\n",
    "        plot_titles = True\n",
    "    )\n",
    "\n",
    "#desc_stats.save()"
   ]
  },
  {
   "cell_type": "markdown",
   "id": "10dce04b-6fe5-4cf6-b902-5091280c9d2a",
   "metadata": {},
   "source": [
    "The means and medians of math grades are smaller than the means and medians of Portuguese grades, whereas the variances in math grades are greater than the variances of Portuguese grades. Furthermore, there are much more low grades in math than in Portuguese. Overall, the students do better in Portuguese than in mathematics."
   ]
  },
  {
   "cell_type": "markdown",
   "id": "b07622a1-d476-43f1-8c78-d4ce243f183a",
   "metadata": {},
   "source": [
    "### Normality of each grade\n",
    "\n",
    "Let us test the normality of each grade by the **Kolmogorov-Smirnov test**."
   ]
  },
  {
   "cell_type": "markdown",
   "id": "6523c6ad-ff9c-49bb-a819-0cae17bc255a",
   "metadata": {},
   "source": [
    "## Correlation matrix"
   ]
  },
  {
   "cell_type": "markdown",
   "id": "7bdababc-f691-4ca7-bc6a-97238843688b",
   "metadata": {},
   "source": [
    "## Data Screening"
   ]
  },
  {
   "cell_type": "markdown",
   "id": "38f26fb5-4202-4c3a-8abe-5db77e66f3dc",
   "metadata": {},
   "source": [
    "### Low Correlations"
   ]
  },
  {
   "cell_type": "markdown",
   "id": "a3d12d5a-bcc3-45ea-9a34-561a89a48e82",
   "metadata": {},
   "source": [
    "#### Kaiser-Meyer-Olkin test"
   ]
  },
  {
   "cell_type": "markdown",
   "id": "37cccf50-655c-45da-bba0-b607e242f07c",
   "metadata": {},
   "source": [
    "#### Bartlett's sphericity test"
   ]
  },
  {
   "cell_type": "markdown",
   "id": "32dcea01-7d22-439c-adc7-e0960e1b1092",
   "metadata": {},
   "source": [
    "### Multicollinearity\n",
    "\n",
    "Since the process of finding **factors** is basically a **multiple linear regression problem**, we must make sure of the lack of **multicollinearity**, which is a strong or perfect (**singularity**) linear relation between two or more variables."
   ]
  }
 ],
 "metadata": {
  "kernelspec": {
   "display_name": "Python 3 (ipykernel)",
   "language": "python",
   "name": "python3"
  },
  "language_info": {
   "codemirror_mode": {
    "name": "ipython",
    "version": 3
   },
   "file_extension": ".py",
   "mimetype": "text/x-python",
   "name": "python",
   "nbconvert_exporter": "python",
   "pygments_lexer": "ipython3",
   "version": "3.10.6"
  }
 },
 "nbformat": 4,
 "nbformat_minor": 5
}
